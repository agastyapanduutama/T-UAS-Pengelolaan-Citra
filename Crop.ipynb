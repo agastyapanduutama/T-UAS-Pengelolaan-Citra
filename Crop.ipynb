{
 "cells": [
  {
   "cell_type": "code",
   "execution_count": null,
   "metadata": {},
   "outputs": [],
   "source": [
    "# Import library\n",
    "import cv2\n",
    "import numpy as np\n",
    "import os\n",
    "\n",
    "# Masukan dataset cars\n",
    "cars_classifier = cv2.CascadeClassifier('data/cars.xml')\n",
    "\n",
    "# Masuka gambar\n",
    "img = cv2.imread('mobilhd.jpg')\n",
    "\n",
    "# Conversi Warna\n",
    "gray = cv2.cvtColor(img, cv2.COLOR_BGR2GRAY)\n",
    "\n",
    "# Terapkan Dataaset\n",
    "mobilna = cars_classifier.detectMultiScale(gray, 1.05, 3)\n",
    "\n",
    "idx = 0\n",
    "# Jika data mobil tidak terdeteksi\n",
    "if mobilna is ():\n",
    "    print(\"Te aya mobil\")\n",
    "\n",
    "# Lakukan pendeteksian Gambar\n",
    "for (x, y, w, h) in mobilna:\n",
    "    cv2.rectangle(img, (x, y), (x+w, y+h), (127, 0, 255), 2)\n",
    "    cv2.imshow('img', img)\n",
    "    cv2.waitKey(0)\n",
    "    roi_gray = gray[y:y+h, x:x+w]\n",
    "    roi_color = img[y:y+h, x:x+w]\n",
    "\n",
    "    # Crop gambar yang terpilih\n",
    "    idx+=1\n",
    "    new_img = img[y:y+h, x:x+w]\n",
    "    cv2.imwrite(\"cropped/\"+str(idx) + '.png', new_img)\n",
    "\n",
    "# Tampilkan Pesan jika berhasil memotong gambar\n",
    "print('>> Berhasil Di Potong')\n",
    "cv2.destroyAllWindows()\n"
   ]
  },
  {
   "cell_type": "code",
   "execution_count": null,
   "metadata": {},
   "outputs": [],
   "source": []
  },
  {
   "cell_type": "code",
   "execution_count": null,
   "metadata": {},
   "outputs": [],
   "source": []
  }
 ],
 "metadata": {
  "kernelspec": {
   "display_name": "Python 3",
   "language": "python",
   "name": "python3"
  },
  "language_info": {
   "codemirror_mode": {
    "name": "ipython",
    "version": 3
   },
   "file_extension": ".py",
   "mimetype": "text/x-python",
   "name": "python",
   "nbconvert_exporter": "python",
   "pygments_lexer": "ipython3",
   "version": "3.7.6"
  }
 },
 "nbformat": 4,
 "nbformat_minor": 4
}
